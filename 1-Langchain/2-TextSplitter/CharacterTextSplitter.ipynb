{
  "cells": [
    {
      "cell_type": "markdown",
      "id": "313170fc",
      "metadata": {},
      "source": [
        "# Character Text Splitting from Documents"
      ]
    },
    {
      "cell_type": "markdown",
      "id": "b819833a",
      "metadata": {},
      "source": [
        "It is the basic splitter, it splits by a single character which is \"\\n\\n\". The chunk length\n",
        "is measured by number of characters.\n",
        "\n",
        "* When to use it? Well formatted documents which are using \"\\n\\n\" as the separator between sentences.\n",
        "* How the text is split? by a single character.\n",
        "* How the chunk size is measured? By number of characters"
      ]
    },
    {
      "cell_type": "code",
      "execution_count": 9,
      "id": "35572d97",
      "metadata": {},
      "outputs": [
        {
          "data": {
            "text/plain": [
              "[Document(metadata={'source': '../resources/speech.txt'}, page_content='In deep learning, transformer is a neural network architecture based on the multi-head attention mechanism, in which text is converted to numerical representations called tokens, and each token is converted into a vector via lookup from a word embedding table.[1] At each layer, each token is then contextualized within the scope of the context window with other (unmasked) tokens via a parallel multi-head attention mechanism, allowing the signal for key tokens to be amplified and less important tokens to be diminished.\\n\\nTransformers have the advantage of having no recurrent units, therefore requiring less training time than earlier recurrent neural architectures (RNNs) such as long short-term memory (LSTM).[2] Later variations have been widely adopted for training large language models (LLMs) on large (language) datasets.[3]\\n\\nThe modern version of the transformer was proposed in the 2017 paper \"Attention Is All You Need\" by researchers at Google.[1] Transformers were first developed as an improvement over previous architectures for machine translation,[4][5] but have found many applications since. They are used in large-scale natural language processing, computer vision (vision transformers), reinforcement learning,[6][7] audio,[8] multimodal learning, robotics,[9] and even playing chess.[10] It has also led to the development of pre-trained systems, such as generative pre-trained transformers (GPTs)[11] and BERT[12] (bidirectional encoder representations from transformers).')]"
            ]
          },
          "execution_count": 9,
          "metadata": {},
          "output_type": "execute_result"
        }
      ],
      "source": [
        "## Text Loader\n",
        "from langchain_community.document_loaders import TextLoader\n",
        "\n",
        "loader = TextLoader('../resources/speech.txt')\n",
        "text_documents=loader.load()\n",
        "text_documents"
      ]
    },
    {
      "cell_type": "code",
      "execution_count": 10,
      "id": "190b6160",
      "metadata": {},
      "outputs": [
        {
          "name": "stderr",
          "output_type": "stream",
          "text": [
            "Created a chunk of size 522, which is longer than the specified 100\n",
            "Created a chunk of size 310, which is longer than the specified 100\n"
          ]
        },
        {
          "name": "stdout",
          "output_type": "stream",
          "text": [
            "page_content='In deep learning, transformer is a neural network architecture based on the multi-head attention mechanism, in which text is converted to numerical representations called tokens, and each token is converted into a vector via lookup from a word embedding table.[1] At each layer, each token is then contextualized within the scope of the context window with other (unmasked) tokens via a parallel multi-head attention mechanism, allowing the signal for key tokens to be amplified and less important tokens to be diminished.' metadata={'source': '../resources/speech.txt'}\n",
            "page_content='Transformers have the advantage of having no recurrent units, therefore requiring less training time than earlier recurrent neural architectures (RNNs) such as long short-term memory (LSTM).[2] Later variations have been widely adopted for training large language models (LLMs) on large (language) datasets.[3]' metadata={'source': '../resources/speech.txt'}\n",
            "page_content='The modern version of the transformer was proposed in the 2017 paper \"Attention Is All You Need\" by researchers at Google.[1] Transformers were first developed as an improvement over previous architectures for machine translation,[4][5] but have found many applications since. They are used in large-scale natural language processing, computer vision (vision transformers), reinforcement learning,[6][7] audio,[8] multimodal learning, robotics,[9] and even playing chess.[10] It has also led to the development of pre-trained systems, such as generative pre-trained transformers (GPTs)[11] and BERT[12] (bidirectional encoder representations from transformers).' metadata={'source': '../resources/speech.txt'}\n"
          ]
        }
      ],
      "source": [
        "from langchain_text_splitters import CharacterTextSplitter\n",
        "\n",
        "text_splitter = CharacterTextSplitter(separator=\"\\n\\n\", chunk_size=100, chunk_overlap=20)\n",
        "text = text_splitter.split_documents(text_documents) \n",
        "print(text[0])\n",
        "print(text[1])\n",
        "print(text[2])"
      ]
    }
  ],
  "metadata": {
    "kernelspec": {
      "display_name": "Python 3",
      "language": "python",
      "name": "python3"
    },
    "language_info": {
      "codemirror_mode": {
        "name": "ipython",
        "version": 3
      },
      "file_extension": ".py",
      "mimetype": "text/x-python",
      "name": "python",
      "nbconvert_exporter": "python",
      "pygments_lexer": "ipython3",
      "version": "3.10.0"
    }
  },
  "nbformat": 4,
  "nbformat_minor": 5
}
