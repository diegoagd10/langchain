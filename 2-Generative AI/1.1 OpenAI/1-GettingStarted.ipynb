{
 "cells": [
  {
   "cell_type": "code",
   "execution_count": 6,
   "id": "179ae2fd",
   "metadata": {},
   "outputs": [],
   "source": [
    "import os\n",
    "from dotenv import load_dotenv\n",
    "\n",
    "load_dotenv()\n",
    "os.environ['OPENAI_API_KEY'] = os.getenv('OPENAI_API_KEY')\n",
    "os.environ['LANGSMITH_API_KEY' ] = os.getenv('LANGSMITH_API_KEY')\n",
    "os.environ['LANGSMITH_TRACING'] = \"true\"\n",
    "os.environ['LANGSMITH_PROJECT'] = os.getenv('LANGSMITH_PROJECT')\n",
    "os.environ['LANGSMITH_WORKSPACE_ID'] = os.getenv(\"LANGSMITH_WORKSPACE_ID\")"
   ]
  },
  {
   "cell_type": "code",
   "execution_count": null,
   "id": "797b0c10",
   "metadata": {},
   "outputs": [],
   "source": [
    "from langchain_openai import ChatOpenAI\n",
    "\n",
    "llm = ChatOpenAI(model=\"gpt-4o\")\n",
    "print(llm)"
   ]
  },
  {
   "cell_type": "code",
   "execution_count": 9,
   "id": "9e910f09",
   "metadata": {},
   "outputs": [],
   "source": [
    "## Input and get response from LLM\n",
    "from langchain_core.tracers.langchain import wait_for_all_tracers\n",
    "\n",
    "try:\n",
    "    result = llm.invoke(\"What is generative AI?\")\n",
    "finally:\n",
    "    wait_for_all_tracers()"
   ]
  },
  {
   "cell_type": "code",
   "execution_count": null,
   "id": "54bf3a78",
   "metadata": {},
   "outputs": [],
   "source": [
    "print(result)"
   ]
  },
  {
   "cell_type": "code",
   "execution_count": null,
   "id": "1f8fde4f",
   "metadata": {},
   "outputs": [],
   "source": [
    "from langchain_core.prompts import ChatPromptTemplate\n",
    "\n",
    "prompt = ChatPromptTemplate.from_messages([\n",
    "    (\"system\", \"You are a helpful asistant. Please respond to the user request only based on the given context.\"),\n",
    "    (\"user\", \"Question: {question}\\nContext: {context}\"),\n",
    "])\n",
    "print(prompt)"
   ]
  },
  {
   "cell_type": "code",
   "execution_count": null,
   "id": "81035b53",
   "metadata": {},
   "outputs": [],
   "source": [
    "from langchain_core.output_parsers import StrOutputParser\n",
    "\n",
    "output_parser = StrOutputParser()\n",
    "chain = prompt | llm | output_parser\n",
    "\n",
    "question = \"Porque existen los ganzos de color negro y gris\"\n",
    "context = \"\"\"\n",
    "La barnacla canadiense, también conocida como ganso de Canadá, \n",
    "es una especie de ave anseriforme de la familia Anatidae. \n",
    "Es el miembro del género Branta más ampliamente distribuido por Norteamérica. \n",
    "En estado silvestre, aún pueden encontrarse las siete subespecies, \n",
    "cinco de las cuales eran antes asignadas a la barnacla de Hutchins. \n",
    "La situación de la especie estuvo amenazada, como consecuencia de la depredación \n",
    "que se hizo sobre la misma entre comienzos del siglo XIX y mediados del XX; sin embargo, \n",
    "una serie de leyes conservacionistas y la dedicación de las agencias protectoras de la vida \n",
    "salvaje de Canadá y Estados Unidos, logró revertir la situación, llegando \n",
    "a duplicarse en 1974 la cantidad de individuos que había hacia 1950. Wikipedia (ES)\n",
    "\"\"\"\n",
    "\n",
    "chain.invoke({ \"question\": question, \"context\": context})"
   ]
  }
 ],
 "metadata": {
  "kernelspec": {
   "display_name": "Python 3",
   "language": "python",
   "name": "python3"
  },
  "language_info": {
   "codemirror_mode": {
    "name": "ipython",
    "version": 3
   },
   "file_extension": ".py",
   "mimetype": "text/x-python",
   "name": "python",
   "nbconvert_exporter": "python",
   "pygments_lexer": "ipython3",
   "version": "3.10.0"
  }
 },
 "nbformat": 4,
 "nbformat_minor": 5
}
